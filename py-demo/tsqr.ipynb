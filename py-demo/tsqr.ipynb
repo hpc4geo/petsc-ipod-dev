{
 "cells": [
  {
   "cell_type": "code",
   "execution_count": 1,
   "id": "377add91-c968-46a7-ae68-e72402e1cf7b",
   "metadata": {},
   "outputs": [],
   "source": [
    "import numpy as np"
   ]
  },
  {
   "cell_type": "code",
   "execution_count": 7,
   "id": "8db715f6-ed9d-4563-bd22-bc1e4bff56a4",
   "metadata": {},
   "outputs": [],
   "source": [
    "np.random.seed(0)\n",
    "A = np.random.random((10,4))"
   ]
  },
  {
   "cell_type": "code",
   "execution_count": 9,
   "id": "6802c2d2-12e1-48ca-8666-0cd1ce23a5a2",
   "metadata": {},
   "outputs": [],
   "source": [
    "A0 = A[:5, :]\n",
    "A1 = A[5:, :]"
   ]
  },
  {
   "cell_type": "code",
   "execution_count": 11,
   "id": "ecfcb1a5-7e5d-49e9-97f7-5c517b396435",
   "metadata": {},
   "outputs": [],
   "source": [
    "Q0,R0 = np.linalg.qr(A0)\n",
    "Q1,R1 = np.linalg.qr(A1)"
   ]
  },
  {
   "cell_type": "code",
   "execution_count": 13,
   "id": "b064c2cf-22b8-42f6-adca-fa61177af069",
   "metadata": {},
   "outputs": [],
   "source": [
    "R01 = np.concatenate([R0,R1])"
   ]
  },
  {
   "cell_type": "code",
   "execution_count": 17,
   "id": "2b04de01-9987-4ae8-9947-9c789ac5ef70",
   "metadata": {},
   "outputs": [],
   "source": [
    "Q01,R0011 = np.linalg.qr(R01)"
   ]
  },
  {
   "cell_type": "code",
   "execution_count": 35,
   "id": "b76283d9-c415-4af5-b312-3f0e6713818d",
   "metadata": {},
   "outputs": [
    {
     "data": {
      "text/plain": [
       "array([[0.5488135 , 0.71518937, 0.60276338, 0.54488318],\n",
       "       [0.4236548 , 0.64589411, 0.43758721, 0.891773  ],\n",
       "       [0.96366276, 0.38344152, 0.79172504, 0.52889492],\n",
       "       [0.56804456, 0.92559664, 0.07103606, 0.0871293 ],\n",
       "       [0.0202184 , 0.83261985, 0.77815675, 0.87001215]])"
      ]
     },
     "execution_count": 35,
     "metadata": {},
     "output_type": "execute_result"
    }
   ],
   "source": [
    "Q0 @ (Q01 @ R0011)[0:4,:]"
   ]
  },
  {
   "cell_type": "code",
   "execution_count": 37,
   "id": "8d7de364-dddd-47da-b956-2626353f730f",
   "metadata": {},
   "outputs": [
    {
     "data": {
      "text/plain": [
       "array([[0.5488135 , 0.71518937, 0.60276338, 0.54488318],\n",
       "       [0.4236548 , 0.64589411, 0.43758721, 0.891773  ],\n",
       "       [0.96366276, 0.38344152, 0.79172504, 0.52889492],\n",
       "       [0.56804456, 0.92559664, 0.07103606, 0.0871293 ],\n",
       "       [0.0202184 , 0.83261985, 0.77815675, 0.87001215]])"
      ]
     },
     "execution_count": 37,
     "metadata": {},
     "output_type": "execute_result"
    }
   ],
   "source": [
    "A0"
   ]
  },
  {
   "cell_type": "code",
   "execution_count": null,
   "id": "9fc3c5aa-ac7a-4bbf-a2b8-3b619214d19e",
   "metadata": {},
   "outputs": [],
   "source": []
  }
 ],
 "metadata": {
  "kernelspec": {
   "display_name": "Python 3 (ipykernel)",
   "language": "python",
   "name": "python3"
  },
  "language_info": {
   "codemirror_mode": {
    "name": "ipython",
    "version": 3
   },
   "file_extension": ".py",
   "mimetype": "text/x-python",
   "name": "python",
   "nbconvert_exporter": "python",
   "pygments_lexer": "ipython3",
   "version": "3.12.4"
  }
 },
 "nbformat": 4,
 "nbformat_minor": 5
}
